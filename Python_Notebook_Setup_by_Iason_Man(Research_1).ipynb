{
  "nbformat": 4,
  "nbformat_minor": 0,
  "metadata": {
    "colab": {
      "provenance": [],
      "include_colab_link": true
    },
    "kernelspec": {
      "name": "python3",
      "display_name": "Python 3"
    },
    "language_info": {
      "name": "python"
    }
  },
  "cells": [
    {
      "cell_type": "markdown",
      "metadata": {
        "id": "view-in-github",
        "colab_type": "text"
      },
      "source": [
        "<a href=\"https://colab.research.google.com/github/IasonMan/Skyline-Math-200/blob/main/Python_Notebook_Setup_by_Iason_Man(Research_1).ipynb\" target=\"_parent\"><img src=\"https://colab.research.google.com/assets/colab-badge.svg\" alt=\"Open In Colab\"/></a>"
      ]
    },
    {
      "cell_type": "markdown",
      "source": [
        "Research Question # 1 : Is there an association between weight and when you wake up for school/work\n"
      ],
      "metadata": {
        "id": "RaflRRFg5e8L"
      }
    },
    {
      "cell_type": "code",
      "execution_count": null,
      "metadata": {
        "id": "U2T9urK-5ZAe"
      },
      "outputs": [],
      "source": [
        "import pandas as pd\n",
        "import matplotlib.pyplot as plt\n",
        "import seaborn as sns"
      ]
    },
    {
      "cell_type": "code",
      "source": [
        "pip install researchpy"
      ],
      "metadata": {
        "colab": {
          "base_uri": "https://localhost:8080/"
        },
        "id": "MlSn-w-WAWmc",
        "outputId": "a7bdd069-1ac9-4409-c572-a88902ead10f"
      },
      "execution_count": null,
      "outputs": [
        {
          "output_type": "stream",
          "name": "stdout",
          "text": [
            "Looking in indexes: https://pypi.org/simple, https://us-python.pkg.dev/colab-wheels/public/simple/\n",
            "Collecting researchpy\n",
            "  Downloading researchpy-0.3.5-py3-none-any.whl (33 kB)\n",
            "Requirement already satisfied: scipy in /usr/local/lib/python3.10/dist-packages (from researchpy) (1.10.1)\n",
            "Requirement already satisfied: statsmodels in /usr/local/lib/python3.10/dist-packages (from researchpy) (0.13.5)\n",
            "Requirement already satisfied: numpy in /usr/local/lib/python3.10/dist-packages (from researchpy) (1.22.4)\n",
            "Requirement already satisfied: pandas in /usr/local/lib/python3.10/dist-packages (from researchpy) (1.5.3)\n",
            "Requirement already satisfied: patsy in /usr/local/lib/python3.10/dist-packages (from researchpy) (0.5.3)\n",
            "Requirement already satisfied: pytz>=2020.1 in /usr/local/lib/python3.10/dist-packages (from pandas->researchpy) (2022.7.1)\n",
            "Requirement already satisfied: python-dateutil>=2.8.1 in /usr/local/lib/python3.10/dist-packages (from pandas->researchpy) (2.8.2)\n",
            "Requirement already satisfied: six in /usr/local/lib/python3.10/dist-packages (from patsy->researchpy) (1.16.0)\n",
            "Requirement already satisfied: packaging>=21.3 in /usr/local/lib/python3.10/dist-packages (from statsmodels->researchpy) (23.1)\n",
            "Installing collected packages: researchpy\n",
            "Successfully installed researchpy-0.3.5\n"
          ]
        }
      ]
    },
    {
      "cell_type": "code",
      "source": [
        "import researchpy as rp"
      ],
      "metadata": {
        "id": "9B-Ysa02Aefp"
      },
      "execution_count": null,
      "outputs": []
    },
    {
      "cell_type": "code",
      "source": [
        "url='https://drive.google.com/file/d/1IbHzUMYKFBkmW3TIvryP7XJlW-WkmGEw/view?usp=sharing'\n",
        "path= 'https://drive.google.com/uc?export=download&id='+url.split('/')[-2]\n",
        "df = pd.read_csv(path)\n",
        "df.head()"
      ],
      "metadata": {
        "id": "Hq7jBgXZ5p7g",
        "colab": {
          "base_uri": "https://localhost:8080/",
          "height": 299
        },
        "outputId": "02794cc9-3aeb-44b2-f692-3e3c48a1eb10"
      },
      "execution_count": null,
      "outputs": [
        {
          "output_type": "execute_result",
          "data": {
            "text/plain": [
              "       AID  BIO_SEX        agew1 IMONTH4 IDAY4 IYEAR4   MACNO4 INTID4  \\\n",
              "0  5710027        2                                                     \n",
              "1  5710131        2  19.42739726       5     6   2008  2288160    160   \n",
              "2  5710317        1                                                     \n",
              "3  5710386        1  20.43013699       5    22   2008  2288238    238   \n",
              "4  5710455        2                                                     \n",
              "\n",
              "  BIO_SEX4 VERSION4  ... H4EO5C H4EO5D H4EO5E H4EO5F H4EO5G H4EO5H H4EO5I  \\\n",
              "0                    ...                                                    \n",
              "1        2     V5.4  ...      0      0      0      0      0      0      0   \n",
              "2                    ...                                                    \n",
              "3        1     V5.4  ...      0      0      0      0      0      0      0   \n",
              "4                    ...                                                    \n",
              "\n",
              "  H4EO5J H4EO6 H4EO7  \n",
              "0                     \n",
              "1      0     2     1  \n",
              "2                     \n",
              "3      0     4     1  \n",
              "4                     \n",
              "\n",
              "[5 rows x 976 columns]"
            ],
            "text/html": [
              "\n",
              "  <div id=\"df-114a08f9-cce6-4353-a2be-5eb6bb2fa801\">\n",
              "    <div class=\"colab-df-container\">\n",
              "      <div>\n",
              "<style scoped>\n",
              "    .dataframe tbody tr th:only-of-type {\n",
              "        vertical-align: middle;\n",
              "    }\n",
              "\n",
              "    .dataframe tbody tr th {\n",
              "        vertical-align: top;\n",
              "    }\n",
              "\n",
              "    .dataframe thead th {\n",
              "        text-align: right;\n",
              "    }\n",
              "</style>\n",
              "<table border=\"1\" class=\"dataframe\">\n",
              "  <thead>\n",
              "    <tr style=\"text-align: right;\">\n",
              "      <th></th>\n",
              "      <th>AID</th>\n",
              "      <th>BIO_SEX</th>\n",
              "      <th>agew1</th>\n",
              "      <th>IMONTH4</th>\n",
              "      <th>IDAY4</th>\n",
              "      <th>IYEAR4</th>\n",
              "      <th>MACNO4</th>\n",
              "      <th>INTID4</th>\n",
              "      <th>BIO_SEX4</th>\n",
              "      <th>VERSION4</th>\n",
              "      <th>...</th>\n",
              "      <th>H4EO5C</th>\n",
              "      <th>H4EO5D</th>\n",
              "      <th>H4EO5E</th>\n",
              "      <th>H4EO5F</th>\n",
              "      <th>H4EO5G</th>\n",
              "      <th>H4EO5H</th>\n",
              "      <th>H4EO5I</th>\n",
              "      <th>H4EO5J</th>\n",
              "      <th>H4EO6</th>\n",
              "      <th>H4EO7</th>\n",
              "    </tr>\n",
              "  </thead>\n",
              "  <tbody>\n",
              "    <tr>\n",
              "      <th>0</th>\n",
              "      <td>5710027</td>\n",
              "      <td>2</td>\n",
              "      <td></td>\n",
              "      <td></td>\n",
              "      <td></td>\n",
              "      <td></td>\n",
              "      <td></td>\n",
              "      <td></td>\n",
              "      <td></td>\n",
              "      <td></td>\n",
              "      <td>...</td>\n",
              "      <td></td>\n",
              "      <td></td>\n",
              "      <td></td>\n",
              "      <td></td>\n",
              "      <td></td>\n",
              "      <td></td>\n",
              "      <td></td>\n",
              "      <td></td>\n",
              "      <td></td>\n",
              "      <td></td>\n",
              "    </tr>\n",
              "    <tr>\n",
              "      <th>1</th>\n",
              "      <td>5710131</td>\n",
              "      <td>2</td>\n",
              "      <td>19.42739726</td>\n",
              "      <td>5</td>\n",
              "      <td>6</td>\n",
              "      <td>2008</td>\n",
              "      <td>2288160</td>\n",
              "      <td>160</td>\n",
              "      <td>2</td>\n",
              "      <td>V5.4</td>\n",
              "      <td>...</td>\n",
              "      <td>0</td>\n",
              "      <td>0</td>\n",
              "      <td>0</td>\n",
              "      <td>0</td>\n",
              "      <td>0</td>\n",
              "      <td>0</td>\n",
              "      <td>0</td>\n",
              "      <td>0</td>\n",
              "      <td>2</td>\n",
              "      <td>1</td>\n",
              "    </tr>\n",
              "    <tr>\n",
              "      <th>2</th>\n",
              "      <td>5710317</td>\n",
              "      <td>1</td>\n",
              "      <td></td>\n",
              "      <td></td>\n",
              "      <td></td>\n",
              "      <td></td>\n",
              "      <td></td>\n",
              "      <td></td>\n",
              "      <td></td>\n",
              "      <td></td>\n",
              "      <td>...</td>\n",
              "      <td></td>\n",
              "      <td></td>\n",
              "      <td></td>\n",
              "      <td></td>\n",
              "      <td></td>\n",
              "      <td></td>\n",
              "      <td></td>\n",
              "      <td></td>\n",
              "      <td></td>\n",
              "      <td></td>\n",
              "    </tr>\n",
              "    <tr>\n",
              "      <th>3</th>\n",
              "      <td>5710386</td>\n",
              "      <td>1</td>\n",
              "      <td>20.43013699</td>\n",
              "      <td>5</td>\n",
              "      <td>22</td>\n",
              "      <td>2008</td>\n",
              "      <td>2288238</td>\n",
              "      <td>238</td>\n",
              "      <td>1</td>\n",
              "      <td>V5.4</td>\n",
              "      <td>...</td>\n",
              "      <td>0</td>\n",
              "      <td>0</td>\n",
              "      <td>0</td>\n",
              "      <td>0</td>\n",
              "      <td>0</td>\n",
              "      <td>0</td>\n",
              "      <td>0</td>\n",
              "      <td>0</td>\n",
              "      <td>4</td>\n",
              "      <td>1</td>\n",
              "    </tr>\n",
              "    <tr>\n",
              "      <th>4</th>\n",
              "      <td>5710455</td>\n",
              "      <td>2</td>\n",
              "      <td></td>\n",
              "      <td></td>\n",
              "      <td></td>\n",
              "      <td></td>\n",
              "      <td></td>\n",
              "      <td></td>\n",
              "      <td></td>\n",
              "      <td></td>\n",
              "      <td>...</td>\n",
              "      <td></td>\n",
              "      <td></td>\n",
              "      <td></td>\n",
              "      <td></td>\n",
              "      <td></td>\n",
              "      <td></td>\n",
              "      <td></td>\n",
              "      <td></td>\n",
              "      <td></td>\n",
              "      <td></td>\n",
              "    </tr>\n",
              "  </tbody>\n",
              "</table>\n",
              "<p>5 rows × 976 columns</p>\n",
              "</div>\n",
              "      <button class=\"colab-df-convert\" onclick=\"convertToInteractive('df-114a08f9-cce6-4353-a2be-5eb6bb2fa801')\"\n",
              "              title=\"Convert this dataframe to an interactive table.\"\n",
              "              style=\"display:none;\">\n",
              "        \n",
              "  <svg xmlns=\"http://www.w3.org/2000/svg\" height=\"24px\"viewBox=\"0 0 24 24\"\n",
              "       width=\"24px\">\n",
              "    <path d=\"M0 0h24v24H0V0z\" fill=\"none\"/>\n",
              "    <path d=\"M18.56 5.44l.94 2.06.94-2.06 2.06-.94-2.06-.94-.94-2.06-.94 2.06-2.06.94zm-11 1L8.5 8.5l.94-2.06 2.06-.94-2.06-.94L8.5 2.5l-.94 2.06-2.06.94zm10 10l.94 2.06.94-2.06 2.06-.94-2.06-.94-.94-2.06-.94 2.06-2.06.94z\"/><path d=\"M17.41 7.96l-1.37-1.37c-.4-.4-.92-.59-1.43-.59-.52 0-1.04.2-1.43.59L10.3 9.45l-7.72 7.72c-.78.78-.78 2.05 0 2.83L4 21.41c.39.39.9.59 1.41.59.51 0 1.02-.2 1.41-.59l7.78-7.78 2.81-2.81c.8-.78.8-2.07 0-2.86zM5.41 20L4 18.59l7.72-7.72 1.47 1.35L5.41 20z\"/>\n",
              "  </svg>\n",
              "      </button>\n",
              "      \n",
              "  <style>\n",
              "    .colab-df-container {\n",
              "      display:flex;\n",
              "      flex-wrap:wrap;\n",
              "      gap: 12px;\n",
              "    }\n",
              "\n",
              "    .colab-df-convert {\n",
              "      background-color: #E8F0FE;\n",
              "      border: none;\n",
              "      border-radius: 50%;\n",
              "      cursor: pointer;\n",
              "      display: none;\n",
              "      fill: #1967D2;\n",
              "      height: 32px;\n",
              "      padding: 0 0 0 0;\n",
              "      width: 32px;\n",
              "    }\n",
              "\n",
              "    .colab-df-convert:hover {\n",
              "      background-color: #E2EBFA;\n",
              "      box-shadow: 0px 1px 2px rgba(60, 64, 67, 0.3), 0px 1px 3px 1px rgba(60, 64, 67, 0.15);\n",
              "      fill: #174EA6;\n",
              "    }\n",
              "\n",
              "    [theme=dark] .colab-df-convert {\n",
              "      background-color: #3B4455;\n",
              "      fill: #D2E3FC;\n",
              "    }\n",
              "\n",
              "    [theme=dark] .colab-df-convert:hover {\n",
              "      background-color: #434B5C;\n",
              "      box-shadow: 0px 1px 3px 1px rgba(0, 0, 0, 0.15);\n",
              "      filter: drop-shadow(0px 1px 2px rgba(0, 0, 0, 0.3));\n",
              "      fill: #FFFFFF;\n",
              "    }\n",
              "  </style>\n",
              "\n",
              "      <script>\n",
              "        const buttonEl =\n",
              "          document.querySelector('#df-114a08f9-cce6-4353-a2be-5eb6bb2fa801 button.colab-df-convert');\n",
              "        buttonEl.style.display =\n",
              "          google.colab.kernel.accessAllowed ? 'block' : 'none';\n",
              "\n",
              "        async function convertToInteractive(key) {\n",
              "          const element = document.querySelector('#df-114a08f9-cce6-4353-a2be-5eb6bb2fa801');\n",
              "          const dataTable =\n",
              "            await google.colab.kernel.invokeFunction('convertToInteractive',\n",
              "                                                     [key], {});\n",
              "          if (!dataTable) return;\n",
              "\n",
              "          const docLinkHtml = 'Like what you see? Visit the ' +\n",
              "            '<a target=\"_blank\" href=https://colab.research.google.com/notebooks/data_table.ipynb>data table notebook</a>'\n",
              "            + ' to learn more about interactive tables.';\n",
              "          element.innerHTML = '';\n",
              "          dataTable['output_type'] = 'display_data';\n",
              "          await google.colab.output.renderOutput(dataTable, element);\n",
              "          const docLink = document.createElement('div');\n",
              "          docLink.innerHTML = docLinkHtml;\n",
              "          element.appendChild(docLink);\n",
              "        }\n",
              "      </script>\n",
              "    </div>\n",
              "  </div>\n",
              "  "
            ]
          },
          "metadata": {},
          "execution_count": 3
        }
      ]
    },
    {
      "cell_type": "markdown",
      "source": [
        "Codebook 1\n",
        "\n",
        "![Screenshot 2023-04-28 10.50.43 AM.png](data:image/png;base64,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)"
      ],
      "metadata": {
        "id": "P2Vacu7L52PB"
      }
    },
    {
      "cell_type": "code",
      "source": [
        "#Manage data for variable 1\n",
        "df['H4GH6'].dtype"
      ],
      "metadata": {
        "id": "BGXegclY57pS",
        "colab": {
          "base_uri": "https://localhost:8080/"
        },
        "outputId": "97999dc8-009b-41c1-ffb3-ad93695a6b08"
      },
      "execution_count": null,
      "outputs": [
        {
          "output_type": "execute_result",
          "data": {
            "text/plain": [
              "dtype('O')"
            ]
          },
          "metadata": {},
          "execution_count": 4
        }
      ]
    },
    {
      "cell_type": "code",
      "source": [
        "df['weight'] = df['H4GH6']\n",
        "df['weight'].dtype"
      ],
      "metadata": {
        "colab": {
          "base_uri": "https://localhost:8080/"
        },
        "id": "qp6pUqoWAEd6",
        "outputId": "674b24ce-e1c7-4b2f-e221-7c10ebd3bcf5"
      },
      "execution_count": null,
      "outputs": [
        {
          "output_type": "execute_result",
          "data": {
            "text/plain": [
              "dtype('O')"
            ]
          },
          "metadata": {},
          "execution_count": 5
        }
      ]
    },
    {
      "cell_type": "code",
      "source": [
        "df['weight'] = pd.to_numeric(df['weight'], errors= 'coerce')\n",
        "df['weight'].dtype"
      ],
      "metadata": {
        "colab": {
          "base_uri": "https://localhost:8080/"
        },
        "id": "vSKE6uVdAEVz",
        "outputId": "bd6f0ec3-03c6-4ee5-c746-c5bd08f3d984"
      },
      "execution_count": null,
      "outputs": [
        {
          "output_type": "execute_result",
          "data": {
            "text/plain": [
              "dtype('float64')"
            ]
          },
          "metadata": {},
          "execution_count": 6
        }
      ]
    },
    {
      "cell_type": "code",
      "source": [
        "df['weight'] = df['weight'].loc[df['weight'] != ' ']\n",
        "df['weight'] = df['weight'].loc[df['weight'] < 996]\n",
        "df['weight'].max()"
      ],
      "metadata": {
        "colab": {
          "base_uri": "https://localhost:8080/"
        },
        "id": "En5RM-JXAEPI",
        "outputId": "fdd280e5-0b94-44cc-aa6f-feeab10c65e8"
      },
      "execution_count": null,
      "outputs": [
        {
          "output_type": "execute_result",
          "data": {
            "text/plain": [
              "525.0"
            ]
          },
          "metadata": {},
          "execution_count": 7
        }
      ]
    },
    {
      "cell_type": "code",
      "source": [
        "#Graphs and tables or statistics\n",
        "rp.summary_cont(df['weight'])"
      ],
      "metadata": {
        "id": "Q1Pv5DMz5-2C",
        "colab": {
          "base_uri": "https://localhost:8080/",
          "height": 117
        },
        "outputId": "cb3f1f4f-1d8a-49f4-97e8-780a5b9a9563"
      },
      "execution_count": null,
      "outputs": [
        {
          "output_type": "stream",
          "name": "stdout",
          "text": [
            "\n",
            "\n"
          ]
        },
        {
          "output_type": "execute_result",
          "data": {
            "text/plain": [
              "  Variable       N    Mean       SD      SE  95% Conf.  Interval\n",
              "0   weight  5035.0  184.05  49.3373  0.6953   182.6869  185.4132"
            ],
            "text/html": [
              "\n",
              "  <div id=\"df-aaea7550-fdc9-402a-93e4-5d3467f01e92\">\n",
              "    <div class=\"colab-df-container\">\n",
              "      <div>\n",
              "<style scoped>\n",
              "    .dataframe tbody tr th:only-of-type {\n",
              "        vertical-align: middle;\n",
              "    }\n",
              "\n",
              "    .dataframe tbody tr th {\n",
              "        vertical-align: top;\n",
              "    }\n",
              "\n",
              "    .dataframe thead th {\n",
              "        text-align: right;\n",
              "    }\n",
              "</style>\n",
              "<table border=\"1\" class=\"dataframe\">\n",
              "  <thead>\n",
              "    <tr style=\"text-align: right;\">\n",
              "      <th></th>\n",
              "      <th>Variable</th>\n",
              "      <th>N</th>\n",
              "      <th>Mean</th>\n",
              "      <th>SD</th>\n",
              "      <th>SE</th>\n",
              "      <th>95% Conf.</th>\n",
              "      <th>Interval</th>\n",
              "    </tr>\n",
              "  </thead>\n",
              "  <tbody>\n",
              "    <tr>\n",
              "      <th>0</th>\n",
              "      <td>weight</td>\n",
              "      <td>5035.0</td>\n",
              "      <td>184.05</td>\n",
              "      <td>49.3373</td>\n",
              "      <td>0.6953</td>\n",
              "      <td>182.6869</td>\n",
              "      <td>185.4132</td>\n",
              "    </tr>\n",
              "  </tbody>\n",
              "</table>\n",
              "</div>\n",
              "      <button class=\"colab-df-convert\" onclick=\"convertToInteractive('df-aaea7550-fdc9-402a-93e4-5d3467f01e92')\"\n",
              "              title=\"Convert this dataframe to an interactive table.\"\n",
              "              style=\"display:none;\">\n",
              "        \n",
              "  <svg xmlns=\"http://www.w3.org/2000/svg\" height=\"24px\"viewBox=\"0 0 24 24\"\n",
              "       width=\"24px\">\n",
              "    <path d=\"M0 0h24v24H0V0z\" fill=\"none\"/>\n",
              "    <path d=\"M18.56 5.44l.94 2.06.94-2.06 2.06-.94-2.06-.94-.94-2.06-.94 2.06-2.06.94zm-11 1L8.5 8.5l.94-2.06 2.06-.94-2.06-.94L8.5 2.5l-.94 2.06-2.06.94zm10 10l.94 2.06.94-2.06 2.06-.94-2.06-.94-.94-2.06-.94 2.06-2.06.94z\"/><path d=\"M17.41 7.96l-1.37-1.37c-.4-.4-.92-.59-1.43-.59-.52 0-1.04.2-1.43.59L10.3 9.45l-7.72 7.72c-.78.78-.78 2.05 0 2.83L4 21.41c.39.39.9.59 1.41.59.51 0 1.02-.2 1.41-.59l7.78-7.78 2.81-2.81c.8-.78.8-2.07 0-2.86zM5.41 20L4 18.59l7.72-7.72 1.47 1.35L5.41 20z\"/>\n",
              "  </svg>\n",
              "      </button>\n",
              "      \n",
              "  <style>\n",
              "    .colab-df-container {\n",
              "      display:flex;\n",
              "      flex-wrap:wrap;\n",
              "      gap: 12px;\n",
              "    }\n",
              "\n",
              "    .colab-df-convert {\n",
              "      background-color: #E8F0FE;\n",
              "      border: none;\n",
              "      border-radius: 50%;\n",
              "      cursor: pointer;\n",
              "      display: none;\n",
              "      fill: #1967D2;\n",
              "      height: 32px;\n",
              "      padding: 0 0 0 0;\n",
              "      width: 32px;\n",
              "    }\n",
              "\n",
              "    .colab-df-convert:hover {\n",
              "      background-color: #E2EBFA;\n",
              "      box-shadow: 0px 1px 2px rgba(60, 64, 67, 0.3), 0px 1px 3px 1px rgba(60, 64, 67, 0.15);\n",
              "      fill: #174EA6;\n",
              "    }\n",
              "\n",
              "    [theme=dark] .colab-df-convert {\n",
              "      background-color: #3B4455;\n",
              "      fill: #D2E3FC;\n",
              "    }\n",
              "\n",
              "    [theme=dark] .colab-df-convert:hover {\n",
              "      background-color: #434B5C;\n",
              "      box-shadow: 0px 1px 3px 1px rgba(0, 0, 0, 0.15);\n",
              "      filter: drop-shadow(0px 1px 2px rgba(0, 0, 0, 0.3));\n",
              "      fill: #FFFFFF;\n",
              "    }\n",
              "  </style>\n",
              "\n",
              "      <script>\n",
              "        const buttonEl =\n",
              "          document.querySelector('#df-aaea7550-fdc9-402a-93e4-5d3467f01e92 button.colab-df-convert');\n",
              "        buttonEl.style.display =\n",
              "          google.colab.kernel.accessAllowed ? 'block' : 'none';\n",
              "\n",
              "        async function convertToInteractive(key) {\n",
              "          const element = document.querySelector('#df-aaea7550-fdc9-402a-93e4-5d3467f01e92');\n",
              "          const dataTable =\n",
              "            await google.colab.kernel.invokeFunction('convertToInteractive',\n",
              "                                                     [key], {});\n",
              "          if (!dataTable) return;\n",
              "\n",
              "          const docLinkHtml = 'Like what you see? Visit the ' +\n",
              "            '<a target=\"_blank\" href=https://colab.research.google.com/notebooks/data_table.ipynb>data table notebook</a>'\n",
              "            + ' to learn more about interactive tables.';\n",
              "          element.innerHTML = '';\n",
              "          dataTable['output_type'] = 'display_data';\n",
              "          await google.colab.output.renderOutput(dataTable, element);\n",
              "          const docLink = document.createElement('div');\n",
              "          docLink.innerHTML = docLinkHtml;\n",
              "          element.appendChild(docLink);\n",
              "        }\n",
              "      </script>\n",
              "    </div>\n",
              "  </div>\n",
              "  "
            ]
          },
          "metadata": {},
          "execution_count": 11
        }
      ]
    },
    {
      "cell_type": "code",
      "source": [
        "rp.summarize(df['weight'])"
      ],
      "metadata": {
        "colab": {
          "base_uri": "https://localhost:8080/",
          "height": 81
        },
        "id": "jfOsWmcBBthJ",
        "outputId": "6aeb20ec-0ec3-4c8f-f603-19e78382c93a"
      },
      "execution_count": null,
      "outputs": [
        {
          "output_type": "execute_result",
          "data": {
            "text/plain": [
              "     Name     N    Mean Median   Variance       SD      SE  \\\n",
              "0  weight  5035  184.05  178.0  2434.1699  49.3373  0.6953   \n",
              "\n",
              "     95% Conf. Interval  \n",
              "0  [182.6869, 185.4132]  "
            ],
            "text/html": [
              "\n",
              "  <div id=\"df-50e2e649-7731-49c0-9b5e-563688db174a\">\n",
              "    <div class=\"colab-df-container\">\n",
              "      <div>\n",
              "<style scoped>\n",
              "    .dataframe tbody tr th:only-of-type {\n",
              "        vertical-align: middle;\n",
              "    }\n",
              "\n",
              "    .dataframe tbody tr th {\n",
              "        vertical-align: top;\n",
              "    }\n",
              "\n",
              "    .dataframe thead th {\n",
              "        text-align: right;\n",
              "    }\n",
              "</style>\n",
              "<table border=\"1\" class=\"dataframe\">\n",
              "  <thead>\n",
              "    <tr style=\"text-align: right;\">\n",
              "      <th></th>\n",
              "      <th>Name</th>\n",
              "      <th>N</th>\n",
              "      <th>Mean</th>\n",
              "      <th>Median</th>\n",
              "      <th>Variance</th>\n",
              "      <th>SD</th>\n",
              "      <th>SE</th>\n",
              "      <th>95% Conf. Interval</th>\n",
              "    </tr>\n",
              "  </thead>\n",
              "  <tbody>\n",
              "    <tr>\n",
              "      <th>0</th>\n",
              "      <td>weight</td>\n",
              "      <td>5035</td>\n",
              "      <td>184.05</td>\n",
              "      <td>178.0</td>\n",
              "      <td>2434.1699</td>\n",
              "      <td>49.3373</td>\n",
              "      <td>0.6953</td>\n",
              "      <td>[182.6869, 185.4132]</td>\n",
              "    </tr>\n",
              "  </tbody>\n",
              "</table>\n",
              "</div>\n",
              "      <button class=\"colab-df-convert\" onclick=\"convertToInteractive('df-50e2e649-7731-49c0-9b5e-563688db174a')\"\n",
              "              title=\"Convert this dataframe to an interactive table.\"\n",
              "              style=\"display:none;\">\n",
              "        \n",
              "  <svg xmlns=\"http://www.w3.org/2000/svg\" height=\"24px\"viewBox=\"0 0 24 24\"\n",
              "       width=\"24px\">\n",
              "    <path d=\"M0 0h24v24H0V0z\" fill=\"none\"/>\n",
              "    <path d=\"M18.56 5.44l.94 2.06.94-2.06 2.06-.94-2.06-.94-.94-2.06-.94 2.06-2.06.94zm-11 1L8.5 8.5l.94-2.06 2.06-.94-2.06-.94L8.5 2.5l-.94 2.06-2.06.94zm10 10l.94 2.06.94-2.06 2.06-.94-2.06-.94-.94-2.06-.94 2.06-2.06.94z\"/><path d=\"M17.41 7.96l-1.37-1.37c-.4-.4-.92-.59-1.43-.59-.52 0-1.04.2-1.43.59L10.3 9.45l-7.72 7.72c-.78.78-.78 2.05 0 2.83L4 21.41c.39.39.9.59 1.41.59.51 0 1.02-.2 1.41-.59l7.78-7.78 2.81-2.81c.8-.78.8-2.07 0-2.86zM5.41 20L4 18.59l7.72-7.72 1.47 1.35L5.41 20z\"/>\n",
              "  </svg>\n",
              "      </button>\n",
              "      \n",
              "  <style>\n",
              "    .colab-df-container {\n",
              "      display:flex;\n",
              "      flex-wrap:wrap;\n",
              "      gap: 12px;\n",
              "    }\n",
              "\n",
              "    .colab-df-convert {\n",
              "      background-color: #E8F0FE;\n",
              "      border: none;\n",
              "      border-radius: 50%;\n",
              "      cursor: pointer;\n",
              "      display: none;\n",
              "      fill: #1967D2;\n",
              "      height: 32px;\n",
              "      padding: 0 0 0 0;\n",
              "      width: 32px;\n",
              "    }\n",
              "\n",
              "    .colab-df-convert:hover {\n",
              "      background-color: #E2EBFA;\n",
              "      box-shadow: 0px 1px 2px rgba(60, 64, 67, 0.3), 0px 1px 3px 1px rgba(60, 64, 67, 0.15);\n",
              "      fill: #174EA6;\n",
              "    }\n",
              "\n",
              "    [theme=dark] .colab-df-convert {\n",
              "      background-color: #3B4455;\n",
              "      fill: #D2E3FC;\n",
              "    }\n",
              "\n",
              "    [theme=dark] .colab-df-convert:hover {\n",
              "      background-color: #434B5C;\n",
              "      box-shadow: 0px 1px 3px 1px rgba(0, 0, 0, 0.15);\n",
              "      filter: drop-shadow(0px 1px 2px rgba(0, 0, 0, 0.3));\n",
              "      fill: #FFFFFF;\n",
              "    }\n",
              "  </style>\n",
              "\n",
              "      <script>\n",
              "        const buttonEl =\n",
              "          document.querySelector('#df-50e2e649-7731-49c0-9b5e-563688db174a button.colab-df-convert');\n",
              "        buttonEl.style.display =\n",
              "          google.colab.kernel.accessAllowed ? 'block' : 'none';\n",
              "\n",
              "        async function convertToInteractive(key) {\n",
              "          const element = document.querySelector('#df-50e2e649-7731-49c0-9b5e-563688db174a');\n",
              "          const dataTable =\n",
              "            await google.colab.kernel.invokeFunction('convertToInteractive',\n",
              "                                                     [key], {});\n",
              "          if (!dataTable) return;\n",
              "\n",
              "          const docLinkHtml = 'Like what you see? Visit the ' +\n",
              "            '<a target=\"_blank\" href=https://colab.research.google.com/notebooks/data_table.ipynb>data table notebook</a>'\n",
              "            + ' to learn more about interactive tables.';\n",
              "          element.innerHTML = '';\n",
              "          dataTable['output_type'] = 'display_data';\n",
              "          await google.colab.output.renderOutput(dataTable, element);\n",
              "          const docLink = document.createElement('div');\n",
              "          docLink.innerHTML = docLinkHtml;\n",
              "          element.appendChild(docLink);\n",
              "        }\n",
              "      </script>\n",
              "    </div>\n",
              "  </div>\n",
              "  "
            ]
          },
          "metadata": {},
          "execution_count": 12
        }
      ]
    },
    {
      "cell_type": "code",
      "source": [
        "df['weight'].describe()"
      ],
      "metadata": {
        "colab": {
          "base_uri": "https://localhost:8080/"
        },
        "id": "_MiDmHZoBtbt",
        "outputId": "a646809a-7fdc-421e-cacf-2fa7876b68d0"
      },
      "execution_count": null,
      "outputs": [
        {
          "output_type": "execute_result",
          "data": {
            "text/plain": [
              "count    5035.000000\n",
              "mean      184.050050\n",
              "std        49.337308\n",
              "min        18.000000\n",
              "25%       150.000000\n",
              "50%       178.000000\n",
              "75%       211.000000\n",
              "max       525.000000\n",
              "Name: weight, dtype: float64"
            ]
          },
          "metadata": {},
          "execution_count": 13
        }
      ]
    },
    {
      "cell_type": "code",
      "source": [
        "sns.histplot(x ='weight', data = df, kde=True)"
      ],
      "metadata": {
        "colab": {
          "base_uri": "https://localhost:8080/",
          "height": 467
        },
        "id": "AmFwl6WxBtJT",
        "outputId": "c836a6d6-56c3-4c45-852d-7aaca0a26b21"
      },
      "execution_count": null,
      "outputs": [
        {
          "output_type": "execute_result",
          "data": {
            "text/plain": [
              "<Axes: xlabel='weight', ylabel='Count'>"
            ]
          },
          "metadata": {},
          "execution_count": 14
        },
        {
          "output_type": "display_data",
          "data": {
            "text/plain": [
              "<Figure size 640x480 with 1 Axes>"
            ],
            "image/png": "[encoded data removed]"
          },
          "metadata": {}
        }
      ]
    },
    {
      "cell_type": "code",
      "source": [
        "sns.boxplot(x ='weight', data = df)"
      ],
      "metadata": {
        "colab": {
          "base_uri": "https://localhost:8080/",
          "height": 467
        },
        "id": "tljkY5TABtB7",
        "outputId": "52ca57a6-6a59-47ed-9d96-0c981777295f"
      },
      "execution_count": null,
      "outputs": [
        {
          "output_type": "execute_result",
          "data": {
            "text/plain": [
              "<Axes: xlabel='weight'>"
            ]
          },
          "metadata": {},
          "execution_count": 15
        },
        {
          "output_type": "display_data",
          "data": {
            "text/plain": [
              "<Figure size 640x480 with 1 Axes>"
            ],
            "image/png": "[encoded data removed]"
          },
          "metadata": {}
        }
      ]
    },
    {
      "cell_type": "markdown",
      "source": [
        "Codebook 2\n",
        "(Hours)\n",
        "\n",
        "![image.png](data:image/png;base64,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)"
      ],
      "metadata": {
        "id": "RJ9rgZVq9yYf"
      }
    },
    {
      "cell_type": "markdown",
      "source": [
        "Codebook 2\n",
        "(Minutes)\n",
        "\n",
        "![image.png](data:image/png;base64,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)"
      ],
      "metadata": {
        "id": "NGVdHJwH_I5R"
      }
    },
    {
      "cell_type": "markdown",
      "source": [
        "Codebook 2\n",
        "(Am/Pm)\n",
        "\n",
        "![image.png](data:image/png;base64,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)"
      ],
      "metadata": {
        "id": "s-WKCyp5_VGF"
      }
    },
    {
      "cell_type": "code",
      "source": [
        "#Manage data for variable 2\n",
        "df['H4SP1H'].value_counts()"
      ],
      "metadata": {
        "id": "1N6BlzE76JZJ",
        "colab": {
          "base_uri": "https://localhost:8080/"
        },
        "outputId": "72f163e9-5125-480a-9a24-0ffa09f87218"
      },
      "execution_count": null,
      "outputs": [
        {
          "output_type": "execute_result",
          "data": {
            "text/plain": [
              "6     1582\n",
              "      1390\n",
              "7     1078\n",
              "5     1007\n",
              "8      406\n",
              "4      309\n",
              "9      261\n",
              "10     139\n",
              "3       95\n",
              "11      72\n",
              "12      64\n",
              "2       48\n",
              "1       40\n",
              "98      12\n",
              "96       1\n",
              "Name: H4SP1H, dtype: int64"
            ]
          },
          "metadata": {},
          "execution_count": 16
        }
      ]
    },
    {
      "cell_type": "code",
      "source": [
        "df['Hour_Sleep'] = df['H4SP1H']\n",
        "df['Hour_Sleep']= pd.to_numeric(df['Hour_Sleep'],errors= 'coerce')\n",
        "df['Hour_Sleep']= df['Hour_Sleep'].loc[df['Hour_Sleep'] < 96]\n",
        "df['Hour_Sleep']= df['Hour_Sleep'].loc[df['Hour_Sleep'] != ' ']\n",
        "df['Hour_Sleep'].value_counts()"
      ],
      "metadata": {
        "colab": {
          "base_uri": "https://localhost:8080/"
        },
        "id": "LC0DdIYvC9Xn",
        "outputId": "e6676a3b-baf2-4f97-bdb6-84f9f368b443"
      },
      "execution_count": null,
      "outputs": [
        {
          "output_type": "execute_result",
          "data": {
            "text/plain": [
              "6.0     1582\n",
              "7.0     1078\n",
              "5.0     1007\n",
              "8.0      406\n",
              "4.0      309\n",
              "9.0      261\n",
              "10.0     139\n",
              "3.0       95\n",
              "11.0      72\n",
              "12.0      64\n",
              "2.0       48\n",
              "1.0       40\n",
              "Name: Hour_Sleep, dtype: int64"
            ]
          },
          "metadata": {},
          "execution_count": 17
        }
      ]
    },
    {
      "cell_type": "code",
      "source": [
        "df['H4SP1M'].value_counts()"
      ],
      "metadata": {
        "colab": {
          "base_uri": "https://localhost:8080/"
        },
        "id": "NlzG0XY9C9VH",
        "outputId": "a0493873-5d30-4179-ad26-0e9fdc90f514"
      },
      "execution_count": null,
      "outputs": [
        {
          "output_type": "execute_result",
          "data": {
            "text/plain": [
              "0     2776\n",
              "30    1599\n",
              "      1390\n",
              "45     306\n",
              "15     206\n",
              "20      46\n",
              "40      34\n",
              "3       33\n",
              "50      30\n",
              "10      15\n",
              "98      13\n",
              "25      10\n",
              "55       9\n",
              "1        8\n",
              "35       8\n",
              "5        8\n",
              "7        2\n",
              "43       1\n",
              "96       1\n",
              "24       1\n",
              "6        1\n",
              "32       1\n",
              "44       1\n",
              "59       1\n",
              "12       1\n",
              "9        1\n",
              "54       1\n",
              "2        1\n",
              "Name: H4SP1M, dtype: int64"
            ]
          },
          "metadata": {},
          "execution_count": 18
        }
      ]
    },
    {
      "cell_type": "code",
      "source": [
        "df['Minutes_Sleep']= df['H4SP1M']\n",
        "df['Minutes_Sleep']= pd.to_numeric(df['Minutes_Sleep'],errors= 'coerce')\n",
        "df['Minutes_Sleep']= df['Minutes_Sleep'].loc[df['Minutes_Sleep'] < 96]\n",
        "df['Minutes_Sleep']= df['Minutes_Sleep'].loc[df['Minutes_Sleep'] != ' ']\n",
        "df['Minutes_Sleep'].value_counts()"
      ],
      "metadata": {
        "colab": {
          "base_uri": "https://localhost:8080/"
        },
        "id": "YfltvDNpC9SL",
        "outputId": "bb33dbae-54a3-476d-ae5f-a91dc65a4f60"
      },
      "execution_count": null,
      "outputs": [
        {
          "output_type": "execute_result",
          "data": {
            "text/plain": [
              "0.0     2776\n",
              "30.0    1599\n",
              "45.0     306\n",
              "15.0     206\n",
              "20.0      46\n",
              "40.0      34\n",
              "3.0       33\n",
              "50.0      30\n",
              "10.0      15\n",
              "25.0      10\n",
              "55.0       9\n",
              "1.0        8\n",
              "35.0       8\n",
              "5.0        8\n",
              "7.0        2\n",
              "43.0       1\n",
              "24.0       1\n",
              "6.0        1\n",
              "32.0       1\n",
              "44.0       1\n",
              "59.0       1\n",
              "12.0       1\n",
              "9.0        1\n",
              "54.0       1\n",
              "2.0        1\n",
              "Name: Minutes_Sleep, dtype: int64"
            ]
          },
          "metadata": {},
          "execution_count": 19
        }
      ]
    },
    {
      "cell_type": "code",
      "source": [
        "df['H4SP1T'].value_counts()"
      ],
      "metadata": {
        "colab": {
          "base_uri": "https://localhost:8080/"
        },
        "id": "hQzi7UR8C9KP",
        "outputId": "040f9a94-2ea7-489e-bdc5-b792ce81c74e"
      },
      "execution_count": null,
      "outputs": [
        {
          "output_type": "execute_result",
          "data": {
            "text/plain": [
              "1    4843\n",
              "     1390\n",
              "2     258\n",
              "8      12\n",
              "6       1\n",
              "Name: H4SP1T, dtype: int64"
            ]
          },
          "metadata": {},
          "execution_count": 20
        }
      ]
    },
    {
      "cell_type": "code",
      "source": [
        "df['Am_Pm_Sleep']=df['H4SP1T']\n",
        "df['Am_Pm_Sleep'] = df['Am_Pm_Sleep'].loc[df['Am_Pm_Sleep'] !=' ']\n",
        "df['Am_Pm_Sleep'] = df['Am_Pm_Sleep'].loc[df['Am_Pm_Sleep'] <'6']\n",
        "df['Am_Pm_Sleep'].replace(['1','2'],['AM','PM'],inplace=True)\n",
        "df['Am_Pm_Sleep'].value_counts()"
      ],
      "metadata": {
        "colab": {
          "base_uri": "https://localhost:8080/"
        },
        "id": "yiscJT4-C9H7",
        "outputId": "860501bb-291e-4158-dd79-47707b836e70"
      },
      "execution_count": null,
      "outputs": [
        {
          "output_type": "execute_result",
          "data": {
            "text/plain": [
              "AM    4843\n",
              "PM     258\n",
              "Name: Am_Pm_Sleep, dtype: int64"
            ]
          },
          "metadata": {},
          "execution_count": 21
        }
      ]
    },
    {
      "cell_type": "code",
      "source": [
        "df_time_convert= df[['Am_Pm_Sleep','Hour_Sleep','Minutes_Sleep']]"
      ],
      "metadata": {
        "id": "AyWSNsJqC9FL"
      },
      "execution_count": null,
      "outputs": []
    },
    {
      "cell_type": "code",
      "source": [
        "df_time_convert.dropna(inplace=True)"
      ],
      "metadata": {
        "colab": {
          "base_uri": "https://localhost:8080/"
        },
        "id": "MnxpBSIUC9Ck",
        "outputId": "6fbb988f-6e40-4c6e-90b3-8b5d09e76cc5"
      },
      "execution_count": null,
      "outputs": [
        {
          "output_type": "stream",
          "name": "stderr",
          "text": [
            "<ipython-input-23-9f90cf800d75>:1: SettingWithCopyWarning: \n",
            "A value is trying to be set on a copy of a slice from a DataFrame\n",
            "\n",
            "See the caveats in the documentation: https://pandas.pydata.org/pandas-docs/stable/user_guide/indexing.html#returning-a-view-versus-a-copy\n",
            "  df_time_convert.dropna(inplace=True)\n"
          ]
        }
      ]
    },
    {
      "cell_type": "code",
      "source": [
        "df_time_convert"
      ],
      "metadata": {
        "colab": {
          "base_uri": "https://localhost:8080/",
          "height": 423
        },
        "id": "Kr66kDGNC9Ak",
        "outputId": "efb3cb1f-24bb-49cd-9301-87f00af5a27e"
      },
      "execution_count": null,
      "outputs": [
        {
          "output_type": "execute_result",
          "data": {
            "text/plain": [
              "     Am_Pm_Sleep  Hour_Sleep  Minutes_Sleep\n",
              "1             AM         6.0            0.0\n",
              "3             AM         9.0            0.0\n",
              "7             AM         6.0           30.0\n",
              "9             AM         9.0           30.0\n",
              "11            AM         5.0            0.0\n",
              "...          ...         ...            ...\n",
              "6499          AM         7.0           45.0\n",
              "6500          AM         7.0            0.0\n",
              "6501          AM         5.0           30.0\n",
              "6502          AM         8.0            2.0\n",
              "6503          AM         5.0           15.0\n",
              "\n",
              "[5100 rows x 3 columns]"
            ],
            "text/html": [
              "\n",
              "  <div id=\"df-3faeed2f-43ab-4bf2-b95d-1490f9e360e7\">\n",
              "    <div class=\"colab-df-container\">\n",
              "      <div>\n",
              "<style scoped>\n",
              "    .dataframe tbody tr th:only-of-type {\n",
              "        vertical-align: middle;\n",
              "    }\n",
              "\n",
              "    .dataframe tbody tr th {\n",
              "        vertical-align: top;\n",
              "    }\n",
              "\n",
              "    .dataframe thead th {\n",
              "        text-align: right;\n",
              "    }\n",
              "</style>\n",
              "<table border=\"1\" class=\"dataframe\">\n",
              "  <thead>\n",
              "    <tr style=\"text-align: right;\">\n",
              "      <th></th>\n",
              "      <th>Am_Pm_Sleep</th>\n",
              "      <th>Hour_Sleep</th>\n",
              "      <th>Minutes_Sleep</th>\n",
              "    </tr>\n",
              "  </thead>\n",
              "  <tbody>\n",
              "    <tr>\n",
              "      <th>1</th>\n",
              "      <td>AM</td>\n",
              "      <td>6.0</td>\n",
              "      <td>0.0</td>\n",
              "    </tr>\n",
              "    <tr>\n",
              "      <th>3</th>\n",
              "      <td>AM</td>\n",
              "      <td>9.0</td>\n",
              "      <td>0.0</td>\n",
              "    </tr>\n",
              "    <tr>\n",
              "      <th>7</th>\n",
              "      <td>AM</td>\n",
              "      <td>6.0</td>\n",
              "      <td>30.0</td>\n",
              "    </tr>\n",
              "    <tr>\n",
              "      <th>9</th>\n",
              "      <td>AM</td>\n",
              "      <td>9.0</td>\n",
              "      <td>30.0</td>\n",
              "    </tr>\n",
              "    <tr>\n",
              "      <th>11</th>\n",
              "      <td>AM</td>\n",
              "      <td>5.0</td>\n",
              "      <td>0.0</td>\n",
              "    </tr>\n",
              "    <tr>\n",
              "      <th>...</th>\n",
              "      <td>...</td>\n",
              "      <td>...</td>\n",
              "      <td>...</td>\n",
              "    </tr>\n",
              "    <tr>\n",
              "      <th>6499</th>\n",
              "      <td>AM</td>\n",
              "      <td>7.0</td>\n",
              "      <td>45.0</td>\n",
              "    </tr>\n",
              "    <tr>\n",
              "      <th>6500</th>\n",
              "      <td>AM</td>\n",
              "      <td>7.0</td>\n",
              "      <td>0.0</td>\n",
              "    </tr>\n",
              "    <tr>\n",
              "      <th>6501</th>\n",
              "      <td>AM</td>\n",
              "      <td>5.0</td>\n",
              "      <td>30.0</td>\n",
              "    </tr>\n",
              "    <tr>\n",
              "      <th>6502</th>\n",
              "      <td>AM</td>\n",
              "      <td>8.0</td>\n",
              "      <td>2.0</td>\n",
              "    </tr>\n",
              "    <tr>\n",
              "      <th>6503</th>\n",
              "      <td>AM</td>\n",
              "      <td>5.0</td>\n",
              "      <td>15.0</td>\n",
              "    </tr>\n",
              "  </tbody>\n",
              "</table>\n",
              "<p>5100 rows × 3 columns</p>\n",
              "</div>\n",
              "      <button class=\"colab-df-convert\" onclick=\"convertToInteractive('df-3faeed2f-43ab-4bf2-b95d-1490f9e360e7')\"\n",
              "              title=\"Convert this dataframe to an interactive table.\"\n",
              "              style=\"display:none;\">\n",
              "        \n",
              "  <svg xmlns=\"http://www.w3.org/2000/svg\" height=\"24px\"viewBox=\"0 0 24 24\"\n",
              "       width=\"24px\">\n",
              "    <path d=\"M0 0h24v24H0V0z\" fill=\"none\"/>\n",
              "    <path d=\"M18.56 5.44l.94 2.06.94-2.06 2.06-.94-2.06-.94-.94-2.06-.94 2.06-2.06.94zm-11 1L8.5 8.5l.94-2.06 2.06-.94-2.06-.94L8.5 2.5l-.94 2.06-2.06.94zm10 10l.94 2.06.94-2.06 2.06-.94-2.06-.94-.94-2.06-.94 2.06-2.06.94z\"/><path d=\"M17.41 7.96l-1.37-1.37c-.4-.4-.92-.59-1.43-.59-.52 0-1.04.2-1.43.59L10.3 9.45l-7.72 7.72c-.78.78-.78 2.05 0 2.83L4 21.41c.39.39.9.59 1.41.59.51 0 1.02-.2 1.41-.59l7.78-7.78 2.81-2.81c.8-.78.8-2.07 0-2.86zM5.41 20L4 18.59l7.72-7.72 1.47 1.35L5.41 20z\"/>\n",
              "  </svg>\n",
              "      </button>\n",
              "      \n",
              "  <style>\n",
              "    .colab-df-container {\n",
              "      display:flex;\n",
              "      flex-wrap:wrap;\n",
              "      gap: 12px;\n",
              "    }\n",
              "\n",
              "    .colab-df-convert {\n",
              "      background-color: #E8F0FE;\n",
              "      border: none;\n",
              "      border-radius: 50%;\n",
              "      cursor: pointer;\n",
              "      display: none;\n",
              "      fill: #1967D2;\n",
              "      height: 32px;\n",
              "      padding: 0 0 0 0;\n",
              "      width: 32px;\n",
              "    }\n",
              "\n",
              "    .colab-df-convert:hover {\n",
              "      background-color: #E2EBFA;\n",
              "      box-shadow: 0px 1px 2px rgba(60, 64, 67, 0.3), 0px 1px 3px 1px rgba(60, 64, 67, 0.15);\n",
              "      fill: #174EA6;\n",
              "    }\n",
              "\n",
              "    [theme=dark] .colab-df-convert {\n",
              "      background-color: #3B4455;\n",
              "      fill: #D2E3FC;\n",
              "    }\n",
              "\n",
              "    [theme=dark] .colab-df-convert:hover {\n",
              "      background-color: #434B5C;\n",
              "      box-shadow: 0px 1px 3px 1px rgba(0, 0, 0, 0.15);\n",
              "      filter: drop-shadow(0px 1px 2px rgba(0, 0, 0, 0.3));\n",
              "      fill: #FFFFFF;\n",
              "    }\n",
              "  </style>\n",
              "\n",
              "      <script>\n",
              "        const buttonEl =\n",
              "          document.querySelector('#df-3faeed2f-43ab-4bf2-b95d-1490f9e360e7 button.colab-df-convert');\n",
              "        buttonEl.style.display =\n",
              "          google.colab.kernel.accessAllowed ? 'block' : 'none';\n",
              "\n",
              "        async function convertToInteractive(key) {\n",
              "          const element = document.querySelector('#df-3faeed2f-43ab-4bf2-b95d-1490f9e360e7');\n",
              "          const dataTable =\n",
              "            await google.colab.kernel.invokeFunction('convertToInteractive',\n",
              "                                                     [key], {});\n",
              "          if (!dataTable) return;\n",
              "\n",
              "          const docLinkHtml = 'Like what you see? Visit the ' +\n",
              "            '<a target=\"_blank\" href=https://colab.research.google.com/notebooks/data_table.ipynb>data table notebook</a>'\n",
              "            + ' to learn more about interactive tables.';\n",
              "          element.innerHTML = '';\n",
              "          dataTable['output_type'] = 'display_data';\n",
              "          await google.colab.output.renderOutput(dataTable, element);\n",
              "          const docLink = document.createElement('div');\n",
              "          docLink.innerHTML = docLinkHtml;\n",
              "          element.appendChild(docLink);\n",
              "        }\n",
              "      </script>\n",
              "    </div>\n",
              "  </div>\n",
              "  "
            ]
          },
          "metadata": {},
          "execution_count": 24
        }
      ]
    },
    {
      "cell_type": "code",
      "source": [
        "def to_military_time_float(in_hour,in_min,am_pm):\n",
        "  out_time = 0\n",
        "  if in_hour == '12':\n",
        "\n",
        "    if am_pm == 'AM': \n",
        "      out_time = 0\n",
        "    else:\n",
        "      out_time = int(in_hour)\n",
        "  \n",
        "  elif (0 < int(in_hour) < 12):\n",
        "    if am_pm == 'AM':\n",
        "      out_time = int(in_hour)\n",
        "    else:\n",
        "      out_time = int(in_hour) + 12\n",
        "  \n",
        "  \n",
        "\n",
        "  out_min = int(in_min) / 60\n",
        "\n",
        "  out_time += out_min \n",
        "\n",
        "\n",
        "\n",
        "\n",
        "  return out_time"
      ],
      "metadata": {
        "id": "4WqKO2IqC89m"
      },
      "execution_count": null,
      "outputs": []
    },
    {
      "cell_type": "code",
      "source": [
        "to_military_time_float('12','30','AM')"
      ],
      "metadata": {
        "colab": {
          "base_uri": "https://localhost:8080/"
        },
        "id": "iB8l4YWUDoed",
        "outputId": "4e4997bf-92fd-4415-e974-a730f589cc8e"
      },
      "execution_count": null,
      "outputs": [
        {
          "output_type": "execute_result",
          "data": {
            "text/plain": [
              "0.5"
            ]
          },
          "metadata": {},
          "execution_count": 26
        }
      ]
    },
    {
      "cell_type": "code",
      "source": [
        "df_time_convert['Time Value (float)'] = df_time_convert.apply(lambda x: to_military_time_float(x['Hour_Sleep'],x['Minutes_Sleep'],x['Am_Pm_Sleep']),axis = 1)\n",
        "df_time_convert"
      ],
      "metadata": {
        "colab": {
          "base_uri": "https://localhost:8080/",
          "height": 533
        },
        "id": "H_cWN9XiDsEX",
        "outputId": "7d22b346-f4bd-4507-fa06-1ead7322997f"
      },
      "execution_count": null,
      "outputs": [
        {
          "output_type": "stream",
          "name": "stderr",
          "text": [
            "<ipython-input-27-8d6f990b8544>:1: SettingWithCopyWarning: \n",
            "A value is trying to be set on a copy of a slice from a DataFrame.\n",
            "Try using .loc[row_indexer,col_indexer] = value instead\n",
            "\n",
            "See the caveats in the documentation: https://pandas.pydata.org/pandas-docs/stable/user_guide/indexing.html#returning-a-view-versus-a-copy\n",
            "  df_time_convert['Time Value (float)'] = df_time_convert.apply(lambda x: to_military_time_float(x['Hour_Sleep'],x['Minutes_Sleep'],x['Am_Pm_Sleep']),axis = 1)\n"
          ]
        },
        {
          "output_type": "execute_result",
          "data": {
            "text/plain": [
              "     Am_Pm_Sleep  Hour_Sleep  Minutes_Sleep  Time Value (float)\n",
              "1             AM         6.0            0.0            6.000000\n",
              "3             AM         9.0            0.0            9.000000\n",
              "7             AM         6.0           30.0            6.500000\n",
              "9             AM         9.0           30.0            9.500000\n",
              "11            AM         5.0            0.0            5.000000\n",
              "...          ...         ...            ...                 ...\n",
              "6499          AM         7.0           45.0            7.750000\n",
              "6500          AM         7.0            0.0            7.000000\n",
              "6501          AM         5.0           30.0            5.500000\n",
              "6502          AM         8.0            2.0            8.033333\n",
              "6503          AM         5.0           15.0            5.250000\n",
              "\n",
              "[5100 rows x 4 columns]"
            ],
            "text/html": [
              "\n",
              "  <div id=\"df-215f782a-f84a-4436-8246-7ffc4299b424\">\n",
              "    <div class=\"colab-df-container\">\n",
              "      <div>\n",
              "<style scoped>\n",
              "    .dataframe tbody tr th:only-of-type {\n",
              "        vertical-align: middle;\n",
              "    }\n",
              "\n",
              "    .dataframe tbody tr th {\n",
              "        vertical-align: top;\n",
              "    }\n",
              "\n",
              "    .dataframe thead th {\n",
              "        text-align: right;\n",
              "    }\n",
              "</style>\n",
              "<table border=\"1\" class=\"dataframe\">\n",
              "  <thead>\n",
              "    <tr style=\"text-align: right;\">\n",
              "      <th></th>\n",
              "      <th>Am_Pm_Sleep</th>\n",
              "      <th>Hour_Sleep</th>\n",
              "      <th>Minutes_Sleep</th>\n",
              "      <th>Time Value (float)</th>\n",
              "    </tr>\n",
              "  </thead>\n",
              "  <tbody>\n",
              "    <tr>\n",
              "      <th>1</th>\n",
              "      <td>AM</td>\n",
              "      <td>6.0</td>\n",
              "      <td>0.0</td>\n",
              "      <td>6.000000</td>\n",
              "    </tr>\n",
              "    <tr>\n",
              "      <th>3</th>\n",
              "      <td>AM</td>\n",
              "      <td>9.0</td>\n",
              "      <td>0.0</td>\n",
              "      <td>9.000000</td>\n",
              "    </tr>\n",
              "    <tr>\n",
              "      <th>7</th>\n",
              "      <td>AM</td>\n",
              "      <td>6.0</td>\n",
              "      <td>30.0</td>\n",
              "      <td>6.500000</td>\n",
              "    </tr>\n",
              "    <tr>\n",
              "      <th>9</th>\n",
              "      <td>AM</td>\n",
              "      <td>9.0</td>\n",
              "      <td>30.0</td>\n",
              "      <td>9.500000</td>\n",
              "    </tr>\n",
              "    <tr>\n",
              "      <th>11</th>\n",
              "      <td>AM</td>\n",
              "      <td>5.0</td>\n",
              "      <td>0.0</td>\n",
              "      <td>5.000000</td>\n",
              "    </tr>\n",
              "    <tr>\n",
              "      <th>...</th>\n",
              "      <td>...</td>\n",
              "      <td>...</td>\n",
              "      <td>...</td>\n",
              "      <td>...</td>\n",
              "    </tr>\n",
              "    <tr>\n",
              "      <th>6499</th>\n",
              "      <td>AM</td>\n",
              "      <td>7.0</td>\n",
              "      <td>45.0</td>\n",
              "      <td>7.750000</td>\n",
              "    </tr>\n",
              "    <tr>\n",
              "      <th>6500</th>\n",
              "      <td>AM</td>\n",
              "      <td>7.0</td>\n",
              "      <td>0.0</td>\n",
              "      <td>7.000000</td>\n",
              "    </tr>\n",
              "    <tr>\n",
              "      <th>6501</th>\n",
              "      <td>AM</td>\n",
              "      <td>5.0</td>\n",
              "      <td>30.0</td>\n",
              "      <td>5.500000</td>\n",
              "    </tr>\n",
              "    <tr>\n",
              "      <th>6502</th>\n",
              "      <td>AM</td>\n",
              "      <td>8.0</td>\n",
              "      <td>2.0</td>\n",
              "      <td>8.033333</td>\n",
              "    </tr>\n",
              "    <tr>\n",
              "      <th>6503</th>\n",
              "      <td>AM</td>\n",
              "      <td>5.0</td>\n",
              "      <td>15.0</td>\n",
              "      <td>5.250000</td>\n",
              "    </tr>\n",
              "  </tbody>\n",
              "</table>\n",
              "<p>5100 rows × 4 columns</p>\n",
              "</div>\n",
              "      <button class=\"colab-df-convert\" onclick=\"convertToInteractive('df-215f782a-f84a-4436-8246-7ffc4299b424')\"\n",
              "              title=\"Convert this dataframe to an interactive table.\"\n",
              "              style=\"display:none;\">\n",
              "        \n",
              "  <svg xmlns=\"http://www.w3.org/2000/svg\" height=\"24px\"viewBox=\"0 0 24 24\"\n",
              "       width=\"24px\">\n",
              "    <path d=\"M0 0h24v24H0V0z\" fill=\"none\"/>\n",
              "    <path d=\"M18.56 5.44l.94 2.06.94-2.06 2.06-.94-2.06-.94-.94-2.06-.94 2.06-2.06.94zm-11 1L8.5 8.5l.94-2.06 2.06-.94-2.06-.94L8.5 2.5l-.94 2.06-2.06.94zm10 10l.94 2.06.94-2.06 2.06-.94-2.06-.94-.94-2.06-.94 2.06-2.06.94z\"/><path d=\"M17.41 7.96l-1.37-1.37c-.4-.4-.92-.59-1.43-.59-.52 0-1.04.2-1.43.59L10.3 9.45l-7.72 7.72c-.78.78-.78 2.05 0 2.83L4 21.41c.39.39.9.59 1.41.59.51 0 1.02-.2 1.41-.59l7.78-7.78 2.81-2.81c.8-.78.8-2.07 0-2.86zM5.41 20L4 18.59l7.72-7.72 1.47 1.35L5.41 20z\"/>\n",
              "  </svg>\n",
              "      </button>\n",
              "      \n",
              "  <style>\n",
              "    .colab-df-container {\n",
              "      display:flex;\n",
              "      flex-wrap:wrap;\n",
              "      gap: 12px;\n",
              "    }\n",
              "\n",
              "    .colab-df-convert {\n",
              "      background-color: #E8F0FE;\n",
              "      border: none;\n",
              "      border-radius: 50%;\n",
              "      cursor: pointer;\n",
              "      display: none;\n",
              "      fill: #1967D2;\n",
              "      height: 32px;\n",
              "      padding: 0 0 0 0;\n",
              "      width: 32px;\n",
              "    }\n",
              "\n",
              "    .colab-df-convert:hover {\n",
              "      background-color: #E2EBFA;\n",
              "      box-shadow: 0px 1px 2px rgba(60, 64, 67, 0.3), 0px 1px 3px 1px rgba(60, 64, 67, 0.15);\n",
              "      fill: #174EA6;\n",
              "    }\n",
              "\n",
              "    [theme=dark] .colab-df-convert {\n",
              "      background-color: #3B4455;\n",
              "      fill: #D2E3FC;\n",
              "    }\n",
              "\n",
              "    [theme=dark] .colab-df-convert:hover {\n",
              "      background-color: #434B5C;\n",
              "      box-shadow: 0px 1px 3px 1px rgba(0, 0, 0, 0.15);\n",
              "      filter: drop-shadow(0px 1px 2px rgba(0, 0, 0, 0.3));\n",
              "      fill: #FFFFFF;\n",
              "    }\n",
              "  </style>\n",
              "\n",
              "      <script>\n",
              "        const buttonEl =\n",
              "          document.querySelector('#df-215f782a-f84a-4436-8246-7ffc4299b424 button.colab-df-convert');\n",
              "        buttonEl.style.display =\n",
              "          google.colab.kernel.accessAllowed ? 'block' : 'none';\n",
              "\n",
              "        async function convertToInteractive(key) {\n",
              "          const element = document.querySelector('#df-215f782a-f84a-4436-8246-7ffc4299b424');\n",
              "          const dataTable =\n",
              "            await google.colab.kernel.invokeFunction('convertToInteractive',\n",
              "                                                     [key], {});\n",
              "          if (!dataTable) return;\n",
              "\n",
              "          const docLinkHtml = 'Like what you see? Visit the ' +\n",
              "            '<a target=\"_blank\" href=https://colab.research.google.com/notebooks/data_table.ipynb>data table notebook</a>'\n",
              "            + ' to learn more about interactive tables.';\n",
              "          element.innerHTML = '';\n",
              "          dataTable['output_type'] = 'display_data';\n",
              "          await google.colab.output.renderOutput(dataTable, element);\n",
              "          const docLink = document.createElement('div');\n",
              "          docLink.innerHTML = docLinkHtml;\n",
              "          element.appendChild(docLink);\n",
              "        }\n",
              "      </script>\n",
              "    </div>\n",
              "  </div>\n",
              "  "
            ]
          },
          "metadata": {},
          "execution_count": 27
        }
      ]
    },
    {
      "cell_type": "code",
      "source": [
        "df_time_convert.loc[df_time_convert['Time Value (float)'] > 24]"
      ],
      "metadata": {
        "colab": {
          "base_uri": "https://localhost:8080/",
          "height": 50
        },
        "id": "bQ4eidltDsAx",
        "outputId": "09063ed3-179b-44da-8697-35b2d1c94c8d"
      },
      "execution_count": null,
      "outputs": [
        {
          "output_type": "execute_result",
          "data": {
            "text/plain": [
              "Empty DataFrame\n",
              "Columns: [Am_Pm_Sleep, Hour_Sleep, Minutes_Sleep, Time Value (float)]\n",
              "Index: []"
            ],
            "text/html": [
              "\n",
              "  <div id=\"df-9f361871-2e65-4c72-9941-66a0a11a71be\">\n",
              "    <div class=\"colab-df-container\">\n",
              "      <div>\n",
              "<style scoped>\n",
              "    .dataframe tbody tr th:only-of-type {\n",
              "        vertical-align: middle;\n",
              "    }\n",
              "\n",
              "    .dataframe tbody tr th {\n",
              "        vertical-align: top;\n",
              "    }\n",
              "\n",
              "    .dataframe thead th {\n",
              "        text-align: right;\n",
              "    }\n",
              "</style>\n",
              "<table border=\"1\" class=\"dataframe\">\n",
              "  <thead>\n",
              "    <tr style=\"text-align: right;\">\n",
              "      <th></th>\n",
              "      <th>Am_Pm_Sleep</th>\n",
              "      <th>Hour_Sleep</th>\n",
              "      <th>Minutes_Sleep</th>\n",
              "      <th>Time Value (float)</th>\n",
              "    </tr>\n",
              "  </thead>\n",
              "  <tbody>\n",
              "  </tbody>\n",
              "</table>\n",
              "</div>\n",
              "      <button class=\"colab-df-convert\" onclick=\"convertToInteractive('df-9f361871-2e65-4c72-9941-66a0a11a71be')\"\n",
              "              title=\"Convert this dataframe to an interactive table.\"\n",
              "              style=\"display:none;\">\n",
              "        \n",
              "  <svg xmlns=\"http://www.w3.org/2000/svg\" height=\"24px\"viewBox=\"0 0 24 24\"\n",
              "       width=\"24px\">\n",
              "    <path d=\"M0 0h24v24H0V0z\" fill=\"none\"/>\n",
              "    <path d=\"M18.56 5.44l.94 2.06.94-2.06 2.06-.94-2.06-.94-.94-2.06-.94 2.06-2.06.94zm-11 1L8.5 8.5l.94-2.06 2.06-.94-2.06-.94L8.5 2.5l-.94 2.06-2.06.94zm10 10l.94 2.06.94-2.06 2.06-.94-2.06-.94-.94-2.06-.94 2.06-2.06.94z\"/><path d=\"M17.41 7.96l-1.37-1.37c-.4-.4-.92-.59-1.43-.59-.52 0-1.04.2-1.43.59L10.3 9.45l-7.72 7.72c-.78.78-.78 2.05 0 2.83L4 21.41c.39.39.9.59 1.41.59.51 0 1.02-.2 1.41-.59l7.78-7.78 2.81-2.81c.8-.78.8-2.07 0-2.86zM5.41 20L4 18.59l7.72-7.72 1.47 1.35L5.41 20z\"/>\n",
              "  </svg>\n",
              "      </button>\n",
              "      \n",
              "  <style>\n",
              "    .colab-df-container {\n",
              "      display:flex;\n",
              "      flex-wrap:wrap;\n",
              "      gap: 12px;\n",
              "    }\n",
              "\n",
              "    .colab-df-convert {\n",
              "      background-color: #E8F0FE;\n",
              "      border: none;\n",
              "      border-radius: 50%;\n",
              "      cursor: pointer;\n",
              "      display: none;\n",
              "      fill: #1967D2;\n",
              "      height: 32px;\n",
              "      padding: 0 0 0 0;\n",
              "      width: 32px;\n",
              "    }\n",
              "\n",
              "    .colab-df-convert:hover {\n",
              "      background-color: #E2EBFA;\n",
              "      box-shadow: 0px 1px 2px rgba(60, 64, 67, 0.3), 0px 1px 3px 1px rgba(60, 64, 67, 0.15);\n",
              "      fill: #174EA6;\n",
              "    }\n",
              "\n",
              "    [theme=dark] .colab-df-convert {\n",
              "      background-color: #3B4455;\n",
              "      fill: #D2E3FC;\n",
              "    }\n",
              "\n",
              "    [theme=dark] .colab-df-convert:hover {\n",
              "      background-color: #434B5C;\n",
              "      box-shadow: 0px 1px 3px 1px rgba(0, 0, 0, 0.15);\n",
              "      filter: drop-shadow(0px 1px 2px rgba(0, 0, 0, 0.3));\n",
              "      fill: #FFFFFF;\n",
              "    }\n",
              "  </style>\n",
              "\n",
              "      <script>\n",
              "        const buttonEl =\n",
              "          document.querySelector('#df-9f361871-2e65-4c72-9941-66a0a11a71be button.colab-df-convert');\n",
              "        buttonEl.style.display =\n",
              "          google.colab.kernel.accessAllowed ? 'block' : 'none';\n",
              "\n",
              "        async function convertToInteractive(key) {\n",
              "          const element = document.querySelector('#df-9f361871-2e65-4c72-9941-66a0a11a71be');\n",
              "          const dataTable =\n",
              "            await google.colab.kernel.invokeFunction('convertToInteractive',\n",
              "                                                     [key], {});\n",
              "          if (!dataTable) return;\n",
              "\n",
              "          const docLinkHtml = 'Like what you see? Visit the ' +\n",
              "            '<a target=\"_blank\" href=https://colab.research.google.com/notebooks/data_table.ipynb>data table notebook</a>'\n",
              "            + ' to learn more about interactive tables.';\n",
              "          element.innerHTML = '';\n",
              "          dataTable['output_type'] = 'display_data';\n",
              "          await google.colab.output.renderOutput(dataTable, element);\n",
              "          const docLink = document.createElement('div');\n",
              "          docLink.innerHTML = docLinkHtml;\n",
              "          element.appendChild(docLink);\n",
              "        }\n",
              "      </script>\n",
              "    </div>\n",
              "  </div>\n",
              "  "
            ]
          },
          "metadata": {},
          "execution_count": 28
        }
      ]
    },
    {
      "cell_type": "code",
      "source": [
        "df= df.assign(WakeUp_Times= df_time_convert['Time Value (float)'])"
      ],
      "metadata": {
        "id": "AHZpraJBDr92"
      },
      "execution_count": null,
      "outputs": []
    },
    {
      "cell_type": "code",
      "source": [
        "df"
      ],
      "metadata": {
        "colab": {
          "base_uri": "https://localhost:8080/",
          "height": 487
        },
        "id": "xltHd7kREAaC",
        "outputId": "953abdb5-c341-4c49-9c7c-bc5b53a4e785"
      },
      "execution_count": null,
      "outputs": [
        {
          "output_type": "execute_result",
          "data": {
            "text/plain": [
              "          AID  BIO_SEX        agew1 IMONTH4 IDAY4 IYEAR4   MACNO4 INTID4  \\\n",
              "0     5710027        2                                                     \n",
              "1     5710131        2  19.42739726       5     6   2008  2288160    160   \n",
              "2     5710317        1                                                     \n",
              "3     5710386        1  20.43013699       5    22   2008  2288238    238   \n",
              "4     5710455        2                                                     \n",
              "...       ...      ...          ...     ...   ...    ...      ...    ...   \n",
              "6499  9971993        2  14.26027397       6     7   2008  2288373    373   \n",
              "6500  9971993        1                    2    13   2008  2288343    343   \n",
              "6501  9971997        1  15.09315068       3    22   2008  2288325    325   \n",
              "6502  9971997        2  15.50958904       4     1   2008  2288325    325   \n",
              "6503  9971997        1                    4    16   2008  2288316    316   \n",
              "\n",
              "     BIO_SEX4 VERSION4  ... H4EO5H H4EO5I H4EO5J H4EO6 H4EO7 weight  \\\n",
              "0                       ...                                     NaN   \n",
              "1           2     V5.4  ...      0      0      0     2     1  238.0   \n",
              "2                       ...                                     NaN   \n",
              "3           1     V5.4  ...      0      0      0     4     1  235.0   \n",
              "4                       ...                                     NaN   \n",
              "...       ...      ...  ...    ...    ...    ...   ...   ...    ...   \n",
              "6499        2     V5.4  ...      0      0      0     4     2  121.0   \n",
              "6500        1     V5.1  ...      0      0      0     3     2   22.0   \n",
              "6501        1     V5.2  ...      0      0      0     4     3  185.0   \n",
              "6502        2     V5.2  ...      0      0      0     3     2  173.0   \n",
              "6503        1     V5.3  ...      0      0      0     4     2  184.0   \n",
              "\n",
              "     Hour_Sleep Minutes_Sleep Am_Pm_Sleep WakeUp_Times  \n",
              "0           NaN           NaN         NaN          NaN  \n",
              "1           6.0           0.0          AM     6.000000  \n",
              "2           NaN           NaN         NaN          NaN  \n",
              "3           9.0           0.0          AM     9.000000  \n",
              "4           NaN           NaN         NaN          NaN  \n",
              "...         ...           ...         ...          ...  \n",
              "6499        7.0          45.0          AM     7.750000  \n",
              "6500        7.0           0.0          AM     7.000000  \n",
              "6501        5.0          30.0          AM     5.500000  \n",
              "6502        8.0           2.0          AM     8.033333  \n",
              "6503        5.0          15.0          AM     5.250000  \n",
              "\n",
              "[6504 rows x 981 columns]"
            ],
            "text/html": [
              "\n",
              "  <div id=\"df-3429640b-099a-4022-adcb-a194f034edb1\">\n",
              "    <div class=\"colab-df-container\">\n",
              "      <div>\n",
              "<style scoped>\n",
              "    .dataframe tbody tr th:only-of-type {\n",
              "        vertical-align: middle;\n",
              "    }\n",
              "\n",
              "    .dataframe tbody tr th {\n",
              "        vertical-align: top;\n",
              "    }\n",
              "\n",
              "    .dataframe thead th {\n",
              "        text-align: right;\n",
              "    }\n",
              "</style>\n",
              "<table border=\"1\" class=\"dataframe\">\n",
              "  <thead>\n",
              "    <tr style=\"text-align: right;\">\n",
              "      <th></th>\n",
              "      <th>AID</th>\n",
              "      <th>BIO_SEX</th>\n",
              "      <th>agew1</th>\n",
              "      <th>IMONTH4</th>\n",
              "      <th>IDAY4</th>\n",
              "      <th>IYEAR4</th>\n",
              "      <th>MACNO4</th>\n",
              "      <th>INTID4</th>\n",
              "      <th>BIO_SEX4</th>\n",
              "      <th>VERSION4</th>\n",
              "      <th>...</th>\n",
              "      <th>H4EO5H</th>\n",
              "      <th>H4EO5I</th>\n",
              "      <th>H4EO5J</th>\n",
              "      <th>H4EO6</th>\n",
              "      <th>H4EO7</th>\n",
              "      <th>weight</th>\n",
              "      <th>Hour_Sleep</th>\n",
              "      <th>Minutes_Sleep</th>\n",
              "      <th>Am_Pm_Sleep</th>\n",
              "      <th>WakeUp_Times</th>\n",
              "    </tr>\n",
              "  </thead>\n",
              "  <tbody>\n",
              "    <tr>\n",
              "      <th>0</th>\n",
              "      <td>5710027</td>\n",
              "      <td>2</td>\n",
              "      <td></td>\n",
              "      <td></td>\n",
              "      <td></td>\n",
              "      <td></td>\n",
              "      <td></td>\n",
              "      <td></td>\n",
              "      <td></td>\n",
              "      <td></td>\n",
              "      <td>...</td>\n",
              "      <td></td>\n",
              "      <td></td>\n",
              "      <td></td>\n",
              "      <td></td>\n",
              "      <td></td>\n",
              "      <td>NaN</td>\n",
              "      <td>NaN</td>\n",
              "      <td>NaN</td>\n",
              "      <td>NaN</td>\n",
              "      <td>NaN</td>\n",
              "    </tr>\n",
              "    <tr>\n",
              "      <th>1</th>\n",
              "      <td>5710131</td>\n",
              "      <td>2</td>\n",
              "      <td>19.42739726</td>\n",
              "      <td>5</td>\n",
              "      <td>6</td>\n",
              "      <td>2008</td>\n",
              "      <td>2288160</td>\n",
              "      <td>160</td>\n",
              "      <td>2</td>\n",
              "      <td>V5.4</td>\n",
              "      <td>...</td>\n",
              "      <td>0</td>\n",
              "      <td>0</td>\n",
              "      <td>0</td>\n",
              "      <td>2</td>\n",
              "      <td>1</td>\n",
              "      <td>238.0</td>\n",
              "      <td>6.0</td>\n",
              "      <td>0.0</td>\n",
              "      <td>AM</td>\n",
              "      <td>6.000000</td>\n",
              "    </tr>\n",
              "    <tr>\n",
              "      <th>2</th>\n",
              "      <td>5710317</td>\n",
              "      <td>1</td>\n",
              "      <td></td>\n",
              "      <td></td>\n",
              "      <td></td>\n",
              "      <td></td>\n",
              "      <td></td>\n",
              "      <td></td>\n",
              "      <td></td>\n",
              "      <td></td>\n",
              "      <td>...</td>\n",
              "      <td></td>\n",
              "      <td></td>\n",
              "      <td></td>\n",
              "      <td></td>\n",
              "      <td></td>\n",
              "      <td>NaN</td>\n",
              "      <td>NaN</td>\n",
              "      <td>NaN</td>\n",
              "      <td>NaN</td>\n",
              "      <td>NaN</td>\n",
              "    </tr>\n",
              "    <tr>\n",
              "      <th>3</th>\n",
              "      <td>5710386</td>\n",
              "      <td>1</td>\n",
              "      <td>20.43013699</td>\n",
              "      <td>5</td>\n",
              "      <td>22</td>\n",
              "      <td>2008</td>\n",
              "      <td>2288238</td>\n",
              "      <td>238</td>\n",
              "      <td>1</td>\n",
              "      <td>V5.4</td>\n",
              "      <td>...</td>\n",
              "      <td>0</td>\n",
              "      <td>0</td>\n",
              "      <td>0</td>\n",
              "      <td>4</td>\n",
              "      <td>1</td>\n",
              "      <td>235.0</td>\n",
              "      <td>9.0</td>\n",
              "      <td>0.0</td>\n",
              "      <td>AM</td>\n",
              "      <td>9.000000</td>\n",
              "    </tr>\n",
              "    <tr>\n",
              "      <th>4</th>\n",
              "      <td>5710455</td>\n",
              "      <td>2</td>\n",
              "      <td></td>\n",
              "      <td></td>\n",
              "      <td></td>\n",
              "      <td></td>\n",
              "      <td></td>\n",
              "      <td></td>\n",
              "      <td></td>\n",
              "      <td></td>\n",
              "      <td>...</td>\n",
              "      <td></td>\n",
              "      <td></td>\n",
              "      <td></td>\n",
              "      <td></td>\n",
              "      <td></td>\n",
              "      <td>NaN</td>\n",
              "      <td>NaN</td>\n",
              "      <td>NaN</td>\n",
              "      <td>NaN</td>\n",
              "      <td>NaN</td>\n",
              "    </tr>\n",
              "    <tr>\n",
              "      <th>...</th>\n",
              "      <td>...</td>\n",
              "      <td>...</td>\n",
              "      <td>...</td>\n",
              "      <td>...</td>\n",
              "      <td>...</td>\n",
              "      <td>...</td>\n",
              "      <td>...</td>\n",
              "      <td>...</td>\n",
              "      <td>...</td>\n",
              "      <td>...</td>\n",
              "      <td>...</td>\n",
              "      <td>...</td>\n",
              "      <td>...</td>\n",
              "      <td>...</td>\n",
              "      <td>...</td>\n",
              "      <td>...</td>\n",
              "      <td>...</td>\n",
              "      <td>...</td>\n",
              "      <td>...</td>\n",
              "      <td>...</td>\n",
              "      <td>...</td>\n",
              "    </tr>\n",
              "    <tr>\n",
              "      <th>6499</th>\n",
              "      <td>9971993</td>\n",
              "      <td>2</td>\n",
              "      <td>14.26027397</td>\n",
              "      <td>6</td>\n",
              "      <td>7</td>\n",
              "      <td>2008</td>\n",
              "      <td>2288373</td>\n",
              "      <td>373</td>\n",
              "      <td>2</td>\n",
              "      <td>V5.4</td>\n",
              "      <td>...</td>\n",
              "      <td>0</td>\n",
              "      <td>0</td>\n",
              "      <td>0</td>\n",
              "      <td>4</td>\n",
              "      <td>2</td>\n",
              "      <td>121.0</td>\n",
              "      <td>7.0</td>\n",
              "      <td>45.0</td>\n",
              "      <td>AM</td>\n",
              "      <td>7.750000</td>\n",
              "    </tr>\n",
              "    <tr>\n",
              "      <th>6500</th>\n",
              "      <td>9971993</td>\n",
              "      <td>1</td>\n",
              "      <td></td>\n",
              "      <td>2</td>\n",
              "      <td>13</td>\n",
              "      <td>2008</td>\n",
              "      <td>2288343</td>\n",
              "      <td>343</td>\n",
              "      <td>1</td>\n",
              "      <td>V5.1</td>\n",
              "      <td>...</td>\n",
              "      <td>0</td>\n",
              "      <td>0</td>\n",
              "      <td>0</td>\n",
              "      <td>3</td>\n",
              "      <td>2</td>\n",
              "      <td>22.0</td>\n",
              "      <td>7.0</td>\n",
              "      <td>0.0</td>\n",
              "      <td>AM</td>\n",
              "      <td>7.000000</td>\n",
              "    </tr>\n",
              "    <tr>\n",
              "      <th>6501</th>\n",
              "      <td>9971997</td>\n",
              "      <td>1</td>\n",
              "      <td>15.09315068</td>\n",
              "      <td>3</td>\n",
              "      <td>22</td>\n",
              "      <td>2008</td>\n",
              "      <td>2288325</td>\n",
              "      <td>325</td>\n",
              "      <td>1</td>\n",
              "      <td>V5.2</td>\n",
              "      <td>...</td>\n",
              "      <td>0</td>\n",
              "      <td>0</td>\n",
              "      <td>0</td>\n",
              "      <td>4</td>\n",
              "      <td>3</td>\n",
              "      <td>185.0</td>\n",
              "      <td>5.0</td>\n",
              "      <td>30.0</td>\n",
              "      <td>AM</td>\n",
              "      <td>5.500000</td>\n",
              "    </tr>\n",
              "    <tr>\n",
              "      <th>6502</th>\n",
              "      <td>9971997</td>\n",
              "      <td>2</td>\n",
              "      <td>15.50958904</td>\n",
              "      <td>4</td>\n",
              "      <td>1</td>\n",
              "      <td>2008</td>\n",
              "      <td>2288325</td>\n",
              "      <td>325</td>\n",
              "      <td>2</td>\n",
              "      <td>V5.2</td>\n",
              "      <td>...</td>\n",
              "      <td>0</td>\n",
              "      <td>0</td>\n",
              "      <td>0</td>\n",
              "      <td>3</td>\n",
              "      <td>2</td>\n",
              "      <td>173.0</td>\n",
              "      <td>8.0</td>\n",
              "      <td>2.0</td>\n",
              "      <td>AM</td>\n",
              "      <td>8.033333</td>\n",
              "    </tr>\n",
              "    <tr>\n",
              "      <th>6503</th>\n",
              "      <td>9971997</td>\n",
              "      <td>1</td>\n",
              "      <td></td>\n",
              "      <td>4</td>\n",
              "      <td>16</td>\n",
              "      <td>2008</td>\n",
              "      <td>2288316</td>\n",
              "      <td>316</td>\n",
              "      <td>1</td>\n",
              "      <td>V5.3</td>\n",
              "      <td>...</td>\n",
              "      <td>0</td>\n",
              "      <td>0</td>\n",
              "      <td>0</td>\n",
              "      <td>4</td>\n",
              "      <td>2</td>\n",
              "      <td>184.0</td>\n",
              "      <td>5.0</td>\n",
              "      <td>15.0</td>\n",
              "      <td>AM</td>\n",
              "      <td>5.250000</td>\n",
              "    </tr>\n",
              "  </tbody>\n",
              "</table>\n",
              "<p>6504 rows × 981 columns</p>\n",
              "</div>\n",
              "      <button class=\"colab-df-convert\" onclick=\"convertToInteractive('df-3429640b-099a-4022-adcb-a194f034edb1')\"\n",
              "              title=\"Convert this dataframe to an interactive table.\"\n",
              "              style=\"display:none;\">\n",
              "        \n",
              "  <svg xmlns=\"http://www.w3.org/2000/svg\" height=\"24px\"viewBox=\"0 0 24 24\"\n",
              "       width=\"24px\">\n",
              "    <path d=\"M0 0h24v24H0V0z\" fill=\"none\"/>\n",
              "    <path d=\"M18.56 5.44l.94 2.06.94-2.06 2.06-.94-2.06-.94-.94-2.06-.94 2.06-2.06.94zm-11 1L8.5 8.5l.94-2.06 2.06-.94-2.06-.94L8.5 2.5l-.94 2.06-2.06.94zm10 10l.94 2.06.94-2.06 2.06-.94-2.06-.94-.94-2.06-.94 2.06-2.06.94z\"/><path d=\"M17.41 7.96l-1.37-1.37c-.4-.4-.92-.59-1.43-.59-.52 0-1.04.2-1.43.59L10.3 9.45l-7.72 7.72c-.78.78-.78 2.05 0 2.83L4 21.41c.39.39.9.59 1.41.59.51 0 1.02-.2 1.41-.59l7.78-7.78 2.81-2.81c.8-.78.8-2.07 0-2.86zM5.41 20L4 18.59l7.72-7.72 1.47 1.35L5.41 20z\"/>\n",
              "  </svg>\n",
              "      </button>\n",
              "      \n",
              "  <style>\n",
              "    .colab-df-container {\n",
              "      display:flex;\n",
              "      flex-wrap:wrap;\n",
              "      gap: 12px;\n",
              "    }\n",
              "\n",
              "    .colab-df-convert {\n",
              "      background-color: #E8F0FE;\n",
              "      border: none;\n",
              "      border-radius: 50%;\n",
              "      cursor: pointer;\n",
              "      display: none;\n",
              "      fill: #1967D2;\n",
              "      height: 32px;\n",
              "      padding: 0 0 0 0;\n",
              "      width: 32px;\n",
              "    }\n",
              "\n",
              "    .colab-df-convert:hover {\n",
              "      background-color: #E2EBFA;\n",
              "      box-shadow: 0px 1px 2px rgba(60, 64, 67, 0.3), 0px 1px 3px 1px rgba(60, 64, 67, 0.15);\n",
              "      fill: #174EA6;\n",
              "    }\n",
              "\n",
              "    [theme=dark] .colab-df-convert {\n",
              "      background-color: #3B4455;\n",
              "      fill: #D2E3FC;\n",
              "    }\n",
              "\n",
              "    [theme=dark] .colab-df-convert:hover {\n",
              "      background-color: #434B5C;\n",
              "      box-shadow: 0px 1px 3px 1px rgba(0, 0, 0, 0.15);\n",
              "      filter: drop-shadow(0px 1px 2px rgba(0, 0, 0, 0.3));\n",
              "      fill: #FFFFFF;\n",
              "    }\n",
              "  </style>\n",
              "\n",
              "      <script>\n",
              "        const buttonEl =\n",
              "          document.querySelector('#df-3429640b-099a-4022-adcb-a194f034edb1 button.colab-df-convert');\n",
              "        buttonEl.style.display =\n",
              "          google.colab.kernel.accessAllowed ? 'block' : 'none';\n",
              "\n",
              "        async function convertToInteractive(key) {\n",
              "          const element = document.querySelector('#df-3429640b-099a-4022-adcb-a194f034edb1');\n",
              "          const dataTable =\n",
              "            await google.colab.kernel.invokeFunction('convertToInteractive',\n",
              "                                                     [key], {});\n",
              "          if (!dataTable) return;\n",
              "\n",
              "          const docLinkHtml = 'Like what you see? Visit the ' +\n",
              "            '<a target=\"_blank\" href=https://colab.research.google.com/notebooks/data_table.ipynb>data table notebook</a>'\n",
              "            + ' to learn more about interactive tables.';\n",
              "          element.innerHTML = '';\n",
              "          dataTable['output_type'] = 'display_data';\n",
              "          await google.colab.output.renderOutput(dataTable, element);\n",
              "          const docLink = document.createElement('div');\n",
              "          docLink.innerHTML = docLinkHtml;\n",
              "          element.appendChild(docLink);\n",
              "        }\n",
              "      </script>\n",
              "    </div>\n",
              "  </div>\n",
              "  "
            ]
          },
          "metadata": {},
          "execution_count": 30
        }
      ]
    },
    {
      "cell_type": "code",
      "source": [
        "df['Hour_Sleep']"
      ],
      "metadata": {
        "colab": {
          "base_uri": "https://localhost:8080/"
        },
        "id": "wg3y083PEASH",
        "outputId": "f53f4a6d-1fb5-4f54-d20d-3e9787050252"
      },
      "execution_count": null,
      "outputs": [
        {
          "output_type": "execute_result",
          "data": {
            "text/plain": [
              "0       NaN\n",
              "1       6.0\n",
              "2       NaN\n",
              "3       9.0\n",
              "4       NaN\n",
              "       ... \n",
              "6499    7.0\n",
              "6500    7.0\n",
              "6501    5.0\n",
              "6502    8.0\n",
              "6503    5.0\n",
              "Name: Hour_Sleep, Length: 6504, dtype: float64"
            ]
          },
          "metadata": {},
          "execution_count": 31
        }
      ]
    },
    {
      "cell_type": "code",
      "source": [
        "df['WakeUp_Times']"
      ],
      "metadata": {
        "colab": {
          "base_uri": "https://localhost:8080/"
        },
        "id": "LnHsMLIXENvP",
        "outputId": "241c9031-9a4f-4625-9d6a-a4bfffe6fd9b"
      },
      "execution_count": null,
      "outputs": [
        {
          "output_type": "execute_result",
          "data": {
            "text/plain": [
              "0            NaN\n",
              "1       6.000000\n",
              "2            NaN\n",
              "3       9.000000\n",
              "4            NaN\n",
              "          ...   \n",
              "6499    7.750000\n",
              "6500    7.000000\n",
              "6501    5.500000\n",
              "6502    8.033333\n",
              "6503    5.250000\n",
              "Name: WakeUp_Times, Length: 6504, dtype: float64"
            ]
          },
          "metadata": {},
          "execution_count": 32
        }
      ]
    },
    {
      "cell_type": "code",
      "source": [
        "#Graphs and tables or statistics\n",
        "df['WakeUp_Times'].describe()"
      ],
      "metadata": {
        "id": "zLkanovP6L9s",
        "colab": {
          "base_uri": "https://localhost:8080/"
        },
        "outputId": "fc3eb5f6-a818-4d09-b66e-8862a1010891"
      },
      "execution_count": null,
      "outputs": [
        {
          "output_type": "execute_result",
          "data": {
            "text/plain": [
              "count    5100.000000\n",
              "mean        6.872650\n",
              "std         2.611656\n",
              "min         0.000000\n",
              "25%         5.500000\n",
              "50%         6.500000\n",
              "75%         7.500000\n",
              "max        23.500000\n",
              "Name: WakeUp_Times, dtype: float64"
            ]
          },
          "metadata": {},
          "execution_count": 38
        }
      ]
    },
    {
      "cell_type": "code",
      "source": [
        "sns.histplot(x = 'WakeUp_Times', data =df, bins = 15)"
      ],
      "metadata": {
        "colab": {
          "base_uri": "https://localhost:8080/",
          "height": 468
        },
        "id": "zhGYj2pzEZWN",
        "outputId": "790aa5dd-cf81-429b-dcfd-dcd3d5f6836c"
      },
      "execution_count": null,
      "outputs": [
        {
          "output_type": "execute_result",
          "data": {
            "text/plain": [
              "<Axes: xlabel='WakeUp_Times', ylabel='Count'>"
            ]
          },
          "metadata": {},
          "execution_count": 35
        },
        {
          "output_type": "display_data",
          "data": {
            "text/plain": [
              "<Figure size 640x480 with 1 Axes>"
            ],
            "image/png": "[encoded data removed]"
          },
          "metadata": {}
        }
      ]
    },
    {
      "cell_type": "code",
      "source": [
        "sns.boxplot(x = 'WakeUp_Times', data =df)"
      ],
      "metadata": {
        "colab": {
          "base_uri": "https://localhost:8080/",
          "height": 468
        },
        "id": "h4EOfd-zEZUP",
        "outputId": "2412bf00-edcc-4aeb-cc2b-b94eb61f6389"
      },
      "execution_count": null,
      "outputs": [
        {
          "output_type": "execute_result",
          "data": {
            "text/plain": [
              "<Axes: xlabel='WakeUp_Times'>"
            ]
          },
          "metadata": {},
          "execution_count": 36
        },
        {
          "output_type": "display_data",
          "data": {
            "text/plain": [
              "<Figure size 640x480 with 1 Axes>"
            ],
            "image/png": "[encoded data removed]"
          },
          "metadata": {}
        }
      ]
    }
  ]
}